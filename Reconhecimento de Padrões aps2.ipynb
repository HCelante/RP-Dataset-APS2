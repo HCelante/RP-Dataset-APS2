{
 "cells": [
  {
   "cell_type": "code",
   "execution_count": 4,
   "metadata": {},
   "outputs": [],
   "source": [
    "import numpy as np\n",
    "import os"
   ]
  },
  {
   "cell_type": "markdown",
   "metadata": {},
   "source": [
    "## Carregando o Dataset"
   ]
  },
  {
   "cell_type": "code",
   "execution_count": 6,
   "metadata": {},
   "outputs": [
    {
     "name": "stdout",
     "output_type": "stream",
     "text": [
      "['src/4_EMG_Claudia_25-11-2019_203111.npy', 'src/1_EMG_Claudia_25-11-2019_202048.npy', 'src/5_EMG_Claudia_25-11-2019_203540.npy', 'src/1_EMG_Claudia_25-11-2019_202406.npy', 'src/4_EMG_Claudia_25-11-2019_203206.npy', 'src/2_EMG_Claudia_25-11-2019_202532.npy', 'src/3_EMG_Claudia_25-11-2019_202949.npy']\n"
     ]
    }
   ],
   "source": [
    "caminhos = [os.path.join(\"src\", nome) for nome in os.listdir(\"src\")]\n",
    "print(caminhos)"
   ]
  },
  {
   "cell_type": "code",
   "execution_count": 9,
   "metadata": {},
   "outputs": [
    {
     "name": "stdout",
     "output_type": "stream",
     "text": [
      "(7, 4, 1400, 4)\n"
     ]
    }
   ],
   "source": [
    "dataset = [np.load(gesture) for gesture in caminhos]\n",
    "dataset = np.array(dataset)\n",
    "print(dataset.shape)"
   ]
  },
  {
   "cell_type": "code",
   "execution_count": null,
   "metadata": {},
   "outputs": [],
   "source": []
  }
 ],
 "metadata": {
  "kernelspec": {
   "display_name": "Python 3",
   "language": "python",
   "name": "python3"
  },
  "language_info": {
   "codemirror_mode": {
    "name": "ipython",
    "version": 3
   },
   "file_extension": ".py",
   "mimetype": "text/x-python",
   "name": "python",
   "nbconvert_exporter": "python",
   "pygments_lexer": "ipython3",
   "version": "3.7.3"
  }
 },
 "nbformat": 4,
 "nbformat_minor": 2
}
